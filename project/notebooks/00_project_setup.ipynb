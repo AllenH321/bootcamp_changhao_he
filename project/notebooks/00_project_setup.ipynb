{
 "cells": [
  {
   "cell_type": "code",
   "execution_count": 1,
   "id": "52e93d47-e36b-49df-b5f4-029241fd2b57",
   "metadata": {},
   "outputs": [],
   "source": [
    "# make sure the project root is on sys. path\n",
    "import sys, os\n",
    "sys.path.append(os.path.abspath(\"..\"))"
   ]
  },
  {
   "cell_type": "code",
   "execution_count": 7,
   "id": "6ad4d91f-fa68-4463-9241-97641a8193a9",
   "metadata": {},
   "outputs": [
    {
     "name": "stdout",
     "output_type": "stream",
     "text": [
      "API_key: True\n",
      "data_direction: /Users/allenpilipala/bootcamp_changhao_he/project/data\n",
      "a + b = [5 7 9]\n"
     ]
    }
   ],
   "source": [
    "from src.config import load_env, get_key, data_dir\n",
    "from dotenv import load_dotenv\n",
    "import numpy as np\n",
    "\n",
    "load_dotenv(); load_env()\n",
    "\n",
    "print(\"API_key:\", get_key(\"API_KEY\") is not None)\n",
    "print(\"data_direction:\", data_dir())\n",
    "print(\"a + b =\", (np.array([1,2,3]) + np.array([4,5,6])))"
   ]
  }
 ],
 "metadata": {
  "kernelspec": {
   "display_name": "Python 3 (ipykernel)",
   "language": "python",
   "name": "python3"
  },
  "language_info": {
   "codemirror_mode": {
    "name": "ipython",
    "version": 3
   },
   "file_extension": ".py",
   "mimetype": "text/x-python",
   "name": "python",
   "nbconvert_exporter": "python",
   "pygments_lexer": "ipython3",
   "version": "3.12.4"
  }
 },
 "nbformat": 4,
 "nbformat_minor": 5
}
