{
 "cells": [
  {
   "cell_type": "code",
   "execution_count": 1,
   "id": "5c4cb9e3-5f23-40a9-af07-4f6ba836d221",
   "metadata": {},
   "outputs": [
    {
     "name": "stdout",
     "output_type": "stream",
     "text": [
      "RAW -> /Users/allenpilipala/bootcamp_changhao_he/homework/stage05_data-storage/data/raw\n",
      "PROC -> /Users/allenpilipala/bootcamp_changhao_he/homework/stage05_data-storage/data/processed\n"
     ]
    }
   ],
   "source": [
    "import os, pathlib, datetime as dt\n",
    "import pandas as pd\n",
    "from dotenv import load_dotenv\n",
    "\n",
    "load_dotenv()\n",
    "RAW = pathlib.Path(os.getenv('DATA_DIR_RAW', 'data/raw'))\n",
    "PROC = pathlib.Path(os.getenv('DATA_DIR_PROCESSED', 'data/processed'))\n",
    "RAW.mkdir(parents=True, exist_ok=True)\n",
    "PROC.mkdir(parents=True, exist_ok=True)\n",
    "print('RAW ->', RAW.resolve())\n",
    "print('PROC ->', PROC.resolve())"
   ]
  },
  {
   "cell_type": "code",
   "execution_count": 8,
   "id": "c3cf3e1d-6828-45b9-874d-ecdc75933e67",
   "metadata": {},
   "outputs": [
    {
     "data": {
      "text/html": [
       "<div>\n",
       "<style scoped>\n",
       "    .dataframe tbody tr th:only-of-type {\n",
       "        vertical-align: middle;\n",
       "    }\n",
       "\n",
       "    .dataframe tbody tr th {\n",
       "        vertical-align: top;\n",
       "    }\n",
       "\n",
       "    .dataframe thead th {\n",
       "        text-align: right;\n",
       "    }\n",
       "</style>\n",
       "<table border=\"1\" class=\"dataframe\">\n",
       "  <thead>\n",
       "    <tr style=\"text-align: right;\">\n",
       "      <th></th>\n",
       "      <th>date</th>\n",
       "      <th>ticker</th>\n",
       "      <th>price</th>\n",
       "    </tr>\n",
       "  </thead>\n",
       "  <tbody>\n",
       "    <tr>\n",
       "      <th>0</th>\n",
       "      <td>2024-01-01</td>\n",
       "      <td>AAPL</td>\n",
       "      <td>150.127840</td>\n",
       "    </tr>\n",
       "    <tr>\n",
       "      <th>1</th>\n",
       "      <td>2024-01-02</td>\n",
       "      <td>AAPL</td>\n",
       "      <td>150.413374</td>\n",
       "    </tr>\n",
       "    <tr>\n",
       "      <th>2</th>\n",
       "      <td>2024-01-03</td>\n",
       "      <td>AAPL</td>\n",
       "      <td>150.083696</td>\n",
       "    </tr>\n",
       "    <tr>\n",
       "      <th>3</th>\n",
       "      <td>2024-01-04</td>\n",
       "      <td>AAPL</td>\n",
       "      <td>149.554353</td>\n",
       "    </tr>\n",
       "    <tr>\n",
       "      <th>4</th>\n",
       "      <td>2024-01-05</td>\n",
       "      <td>AAPL</td>\n",
       "      <td>150.808156</td>\n",
       "    </tr>\n",
       "  </tbody>\n",
       "</table>\n",
       "</div>"
      ],
      "text/plain": [
       "        date ticker       price\n",
       "0 2024-01-01   AAPL  150.127840\n",
       "1 2024-01-02   AAPL  150.413374\n",
       "2 2024-01-03   AAPL  150.083696\n",
       "3 2024-01-04   AAPL  149.554353\n",
       "4 2024-01-05   AAPL  150.808156"
      ]
     },
     "execution_count": 8,
     "metadata": {},
     "output_type": "execute_result"
    }
   ],
   "source": [
    "# Load APPL stock data as a sample dataframe\n",
    "import numpy as np\n",
    "dates = pd.date_range('2024-01-01', periods=20, freq='D')\n",
    "df = pd.DataFrame({'date': dates, \n",
    "                   'ticker': ['AAPL']*20, \n",
    "                   'price': 150 + np.random.randn(20).cumsum()})\n",
    "df.head()"
   ]
  },
  {
   "cell_type": "code",
   "execution_count": 12,
   "id": "b6350f7f-9d36-40ec-aa30-f4b0c324830b",
   "metadata": {},
   "outputs": [
    {
     "data": {
      "text/plain": [
       "PosixPath('data/processed/sample_20250820-082842.parquet')"
      ]
     },
     "execution_count": 12,
     "metadata": {},
     "output_type": "execute_result"
    }
   ],
   "source": [
    "# Save CSV to data/raw/ and Parquet to data/processed/\n",
    "def ts(): \n",
    "    return dt.datetime.now().strftime('%Y%m%d-%H%M%S')\n",
    "\n",
    "# Save CSV\n",
    "csv_path = RAW / f\"sample_{ts()}.csv\"\n",
    "df.to_csv(csv_path, index=False)\n",
    "csv_path\n",
    "\n",
    "# Save Parquet\n",
    "pq_path = PROC / f\"sample_{ts()}.parquet\"\n",
    "try:\n",
    "    df.to_parquet(pq_path)\n",
    "except Exception as e:\n",
    "    print('Parquet engine not available. Install pyarrow or fastparquet to complete this step.')\n",
    "    pq_path = None\n",
    "pq_path"
   ]
  },
  {
   "cell_type": "code",
   "execution_count": 21,
   "id": "8245c539-18bd-4fd9-965a-7bb6cb7c82ba",
   "metadata": {},
   "outputs": [
    {
     "data": {
      "text/plain": [
       "{'shape_equal': True, 'date_is_datetime': True, 'price_is_numeric': True}"
      ]
     },
     "execution_count": 21,
     "metadata": {},
     "output_type": "execute_result"
    }
   ],
   "source": [
    "# Reload and Validate\n",
    "def validate_loaded(original, reloaded):\n",
    "    checks = {\n",
    "        'shape_equal': original.shape == reloaded.shape,\n",
    "        'date_is_datetime': pd.api.types.is_datetime64_any_dtype(reloaded['date']) if 'date' in reloaded.columns else False,\n",
    "        'price_is_numeric': pd.api.types.is_numeric_dtype(reloaded['price']) if 'price' in reloaded.columns else False,\n",
    "    }\n",
    "    return checks\n",
    "\n",
    "df_csv = pd.read_csv(csv_path, parse_dates=['date'])\n",
    "validate_loaded(df, df_csv)\n"
   ]
  },
  {
   "cell_type": "code",
   "execution_count": 25,
   "id": "565d8b30-62b8-41b6-9b3b-422805097e73",
   "metadata": {},
   "outputs": [],
   "source": [
    "if pq_path:\n",
    "    try:\n",
    "        df_pq = pd.read_parquet(pq_path)\n",
    "        validate_loaded(df, df_pq)\n",
    "    except Exception as e:\n",
    "        print('Parquet read failed:', e)"
   ]
  },
  {
   "cell_type": "code",
   "execution_count": 31,
   "id": "037fb46a-a8b0-4c38-8c62-92e458f4e093",
   "metadata": {},
   "outputs": [],
   "source": [
    "# Utilities\n",
    "import typing as t, pathlib\n",
    "\n",
    "def detect_format(path: t.Union[str, pathlib.Path]):\n",
    "    s = str(path).lower()\n",
    "    if s.endswith('.csv'): \n",
    "        return 'csv'\n",
    "    if s.endswith('.parquet') or s.endswith('.pq') or s.endswith('.parq'): \n",
    "        return 'parquet'\n",
    "    raise ValueError('Unsupported format: ' + s)\n",
    "\n",
    "def write_df(df: pd.DataFrame, path: t.Union[str, pathlib.Path]):\n",
    "    p = pathlib.Path(path)\n",
    "    p.parent.mkdir(parents=True, exist_ok=True)\n",
    "    fmt = detect_format(p)\n",
    "    if fmt == 'csv':\n",
    "        df.to_csv(p, index=False)\n",
    "    else:\n",
    "        try:\n",
    "            df.to_parquet(p)\n",
    "        except Exception as e:\n",
    "            raise RuntimeError('Parquet engine not available. Install pyarrow or fastparquet.') from e\n",
    "    return p\n",
    "\n",
    "def read_df(path: t.Union[str, pathlib.Path]):\n",
    "    p = pathlib.Path(path)\n",
    "    fmt = detect_format(p)\n",
    "    if fmt == 'csv':\n",
    "        return pd.read_csv(p, parse_dates=['date']) if 'date' in pd.read_csv(p, nrows=0).columns else pd.read_csv(p)\n",
    "    else:\n",
    "        try:\n",
    "            return pd.read_parquet(p)\n",
    "        except Exception as e:\n",
    "            raise RuntimeError('Parquet engine not available. Install pyarrow or fastparquet.') from e"
   ]
  },
  {
   "cell_type": "code",
   "execution_count": 38,
   "id": "62b23c2a-cc99-40ec-8647-75be5d70c2fb",
   "metadata": {},
   "outputs": [
    {
     "name": "stdout",
     "output_type": "stream",
     "text": [
      "        date ticker       price\n",
      "0 2024-01-01   AAPL  150.127840\n",
      "1 2024-01-02   AAPL  150.413374\n",
      "2 2024-01-03   AAPL  150.083696\n",
      "3 2024-01-04   AAPL  149.554353\n",
      "4 2024-01-05   AAPL  150.808156\n"
     ]
    }
   ],
   "source": [
    "# Demo\n",
    "p_csv = RAW / f\"util_{ts()}.csv\"\n",
    "p_pq  = PROC / f\"util_{ts()}.parquet\"\n",
    "write_df(df, p_csv)\n",
    "read_df(p_csv).head()\n",
    "try:\n",
    "    write_df(df, p_pq)\n",
    "    print(read_df(p_pq).head())\n",
    "except RuntimeError as e:\n",
    "    print('Skipping Parquet util demo:', e)"
   ]
  },
  {
   "cell_type": "code",
   "execution_count": null,
   "id": "4ff8bf9b-2876-49e0-97e3-efc624cc08e1",
   "metadata": {},
   "outputs": [],
   "source": []
  }
 ],
 "metadata": {
  "kernelspec": {
   "display_name": "Python 3 (ipykernel)",
   "language": "python",
   "name": "python3"
  },
  "language_info": {
   "codemirror_mode": {
    "name": "ipython",
    "version": 3
   },
   "file_extension": ".py",
   "mimetype": "text/x-python",
   "name": "python",
   "nbconvert_exporter": "python",
   "pygments_lexer": "ipython3",
   "version": "3.12.4"
  }
 },
 "nbformat": 4,
 "nbformat_minor": 5
}
