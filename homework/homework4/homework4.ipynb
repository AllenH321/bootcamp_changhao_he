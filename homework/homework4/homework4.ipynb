{
 "cells": [
  {
   "cell_type": "markdown",
   "id": "76c694e5-1a08-4c1c-84c2-8a433bf77d9e",
   "metadata": {},
   "source": [
    "Homework 04"
   ]
  },
  {
   "cell_type": "code",
   "execution_count": 38,
   "id": "68d88cd7-3b25-4771-acb5-c50b7d52d63e",
   "metadata": {},
   "outputs": [],
   "source": [
    "from pathlib import Path\n",
    "from datetime import datetime\n",
    "import os, json, requests\n",
    "import pandas as pd\n",
    "from dotenv import load_dotenv\n",
    "import requests\n",
    "\n",
    "RAW = pathlib.Path('data/raw'); RAW.mkdir(parents=True, exist_ok=True)"
   ]
  },
  {
   "cell_type": "code",
   "execution_count": 65,
   "id": "e914aea4-4ab5-44de-a704-9ca9e134d0d2",
   "metadata": {},
   "outputs": [],
   "source": [
    "def ts():\n",
    "    return datetime.now().strftime(\"%Y%m%d-%H%M\")\n",
    "    \n",
    "def save_csv(df: pd.DataFrame, prefix: str, **meta):\n",
    "    mid = '_'.join([f\"{k}-{v}\" for k,v in meta.items()])\n",
    "    path = RAW / f\"{prefix}_{mid}_{ts()}.csv\"\n",
    "    df.to_csv(path, index=False)\n",
    "    print('Saved', path)\n",
    "    return path\n",
    "\n",
    "def validate(df: pd.DataFrame, required):\n",
    "    missing = [c for c in required if c not in df.columns]\n",
    "    return {'missing': missing, 'shape': df.shape, 'na_total': int(df.isna().sum().sum())}"
   ]
  },
  {
   "cell_type": "code",
   "execution_count": 26,
   "id": "6af85dae-0318-4571-a121-05233025a3d1",
   "metadata": {},
   "outputs": [
    {
     "name": "stdout",
     "output_type": "stream",
     "text": [
      "9678QFRFIV7I77KP\n"
     ]
    }
   ],
   "source": [
    "load_dotenv()\n",
    "ALPHAVANTAGE_KEY = os.getenv(\"ALPHAVANTAGE_API_KEY\")"
   ]
  },
  {
   "cell_type": "markdown",
   "id": "b7dc5818-14e7-4031-ba8d-fa24c8e963a9",
   "metadata": {},
   "source": [
    "Part 1"
   ]
  },
  {
   "cell_type": "code",
   "execution_count": 44,
   "id": "0349085b-7429-4638-826c-5e73b49caaef",
   "metadata": {},
   "outputs": [
    {
     "name": "stdout",
     "output_type": "stream",
     "text": [
      "Alpha Vantage failed -> Unexpected keys: ['Information']\n"
     ]
    },
    {
     "data": {
      "text/plain": [
       "{'missing': [], 'shape': (63, 2), 'na_total': 0}"
      ]
     },
     "execution_count": 44,
     "metadata": {},
     "output_type": "execute_result"
    }
   ],
   "source": [
    "SYMBOL = \"DIS\"\n",
    "USE_ALPHA = bool(os.getenv('ALPHAVANTAGE_API_KEY'))\n",
    "\n",
    "def USE_ALPHA (symbol: str, api_key: str) -> pd.DataFrame:\n",
    "    url = 'https://www.alphavantage.co/query'\n",
    "    params = {\n",
    "        'function':'TIME_SERIES_DAILY_ADJUSTED',\n",
    "        'symbol':SYMBOL,\n",
    "        'outputsize':'compact',\n",
    "        'apikey':os.getenv('ALPHAVANTAGE_API_KEY')}\n",
    "    r = requests.get(url, params=params, timeout=30)\n",
    "    r.raise_for_status()\n",
    "    js = r.json()\n",
    "    \n",
    "    ts_key = next((k for k in js if \"Time Series\" in k), None)\n",
    "    if not ts_key:\n",
    "        raise ValueError(f\"Unexpected keys: {list(js.keys())[:5]}\")\n",
    "    df[\"date\"] = pd.to_datetime(df[\"date\"])\n",
    "    df[\"adj_close\"] = pd.to_numeric(df[\"adj_close\"], errors=\"coerce\")\n",
    "    return df[[\"date\", \"adj_close\"]].sort_values(\"date\").reset_index(drop=True)\n",
    "\n",
    "def USE_YFINANCE(symbol: str) -> pd.DataFrame:\n",
    "    import yfinance as yf\n",
    "    df = yf.download(symbol, period=\"3mo\", interval=\"1d\", auto_adjust=False, progress=False)\n",
    "    df = df.reset_index()[[\"Date\", \"Adj Close\"]]\n",
    "    df.columns = [\"date\", \"adj_close\"]\n",
    "    return df.sort_values(\"date\").reset_index(drop=True)\n",
    "\n",
    "try:\n",
    "    if USE_ALPHA:\n",
    "        df_api = USE_ALPHA(SYMBOL, ALPHAVANTAGE_KEY)\n",
    "    else:\n",
    "        raise ValueError(\"No ALPHAVANTAGE_API_KEY set\")\n",
    "except Exception as e:\n",
    "    print(\"Alpha Vantage failed ->\", e)\n",
    "    df_api = USE_YFINANCE(SYMBOL)\n",
    "\n",
    "v_api = validate(df_api, ['date','adj_close'])\n",
    "v_api"
   ]
  },
  {
   "cell_type": "markdown",
   "id": "789cf3bf-ec95-4498-9df6-1813058749f9",
   "metadata": {},
   "source": [
    "_ = save_csv(df_api.sort_values('date'), prefix='api', source='alpha' if USE_ALPHA else 'yfinance', symbol=SYMBOL)"
   ]
  },
  {
   "cell_type": "markdown",
   "id": "7c1c66d7-4bd4-4b39-8500-aec7258e6652",
   "metadata": {},
   "source": [
    "Part 2"
   ]
  },
  {
   "cell_type": "code",
   "execution_count": 76,
   "id": "7158058a-e589-4b4a-b5fa-6bc9519fc17d",
   "metadata": {},
   "outputs": [
    {
     "name": "stdout",
     "output_type": "stream",
     "text": [
      "Scrape failed, using inline demo table: 1 columns passed, passed data had 14 columns\n"
     ]
    },
    {
     "data": {
      "text/plain": [
       "{'missing': [], 'shape': (1, 2), 'na_total': 0}"
      ]
     },
     "execution_count": 76,
     "metadata": {},
     "output_type": "execute_result"
    }
   ],
   "source": [
    "SCRAPE_URL = 'https://en.wikipedia.org/wiki/S%26P_500'  \n",
    "headers = {'User-Agent':'AFE-Homework/1.0'}\n",
    "try:\n",
    "    resp = requests.get(SCRAPE_URL, headers=headers, timeout=30)\n",
    "    resp.raise_for_status()\n",
    "    soup = BeautifulSoup(resp.text, \"lxml\")\n",
    "    \n",
    "    rows = [[c.get_text(strip=True) for c in tr.find_all(['th','td'])] for tr in soup.find_all('tr')]\n",
    "    header, *data = [r for r in rows if r]\n",
    "    df_scrape = pd.DataFrame(data, columns=header)\n",
    "    \n",
    "except Exception as e:\n",
    "    print('Scrape failed, using inline demo table:', e)\n",
    "    html = '<table><tr><th>Ticker</th><th>Price</th></tr><tr><td>AAA</td><td>101.2</td></tr></table>'\n",
    "    soup = BeautifulSoup(html, 'html.parser')\n",
    "    rows = [[c.get_text(strip=True) for c in tr.find_all(['th','td'])] for tr in soup.find_all('tr')]\n",
    "    header, *data = [r for r in rows if r]\n",
    "    df_scrape = pd.DataFrame(data, columns=header)\n",
    "\n",
    "if 'Price' in df_scrape.columns:\n",
    "    df_scrape['Price'] = pd.to_numeric(df_scrape['Price'], errors='coerce')\n",
    "v_scrape = validate(df_scrape, list(df_scrape.columns)); v_scrape"
   ]
  },
  {
   "cell_type": "code",
   "execution_count": 78,
   "id": "55871520-b265-43f9-a7d5-e14399219490",
   "metadata": {},
   "outputs": [
    {
     "name": "stdout",
     "output_type": "stream",
     "text": [
      "Saved data/raw/scrape_site-example_table-markets_20250817-1521.csv\n"
     ]
    }
   ],
   "source": [
    "_ = save_csv(df_scrape, prefix='scrape', site='example', table='markets')"
   ]
  },
  {
   "cell_type": "code",
   "execution_count": null,
   "id": "d1a9ce4b-1409-4410-9564-918602350a2d",
   "metadata": {},
   "outputs": [],
   "source": [
    "# Documentation\n",
    "## Data Sources\n",
    "- **API Source**\n",
    "  - Alpha Vantage (`TIME_SERIES_DAILY_ADJUSTED`, ticker = DIS)  \n",
    "  - Fallback: Yahoo Finance (`yfinance`) if Alpha Vantage fails  \n",
    "  - URL: https://www.alphavantage.co/query\n",
    "- **Scrape Source\"\"\n",
    "  - Wikipedia — *List of S&P 500 companies*  \n",
    "    https://en.wikipedia.org/wiki/List_of_S%26P_500_companies  \n",
    "  - Table: `id=\"constituents\"`\n",
    "- **Assumptions and Risks**\n",
    "  - API Source: Alpha Vantage free API only allows ~5 requests/min; exceeding this triggers fallback to yfinance.\n",
    "  - Scrape Source: Scraping depends on the presence of `table#constituents` in Wikipedia.\n",
    "  - Schema changes: Column names could be renamed in Wikipedia"
   ]
  }
 ],
 "metadata": {
  "kernelspec": {
   "display_name": "Python 3 (ipykernel)",
   "language": "python",
   "name": "python3"
  },
  "language_info": {
   "codemirror_mode": {
    "name": "ipython",
    "version": 3
   },
   "file_extension": ".py",
   "mimetype": "text/x-python",
   "name": "python",
   "nbconvert_exporter": "python",
   "pygments_lexer": "ipython3",
   "version": "3.12.4"
  }
 },
 "nbformat": 4,
 "nbformat_minor": 5
}
