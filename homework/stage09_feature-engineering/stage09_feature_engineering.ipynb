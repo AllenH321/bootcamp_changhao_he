{
 "cells": [
  {
   "cell_type": "markdown",
   "id": "9YetzbZJddAC",
   "metadata": {
    "id": "9YetzbZJddAC"
   },
   "source": [
    "# Stage 09 — Homework Starter Notebook\n",
    "\n",
    "In the lecture, we learned how to create engineered features. Now it’s your turn to apply those ideas to your own project data."
   ]
  },
  {
   "cell_type": "code",
   "execution_count": 22,
   "id": "LGD5lu-fddAE",
   "metadata": {
    "id": "LGD5lu-fddAE"
   },
   "outputs": [
    {
     "name": "stderr",
     "output_type": "stream",
     "text": [
      "[*********************100%***********************]  1 of 1 completed"
     ]
    },
    {
     "name": "stdout",
     "output_type": "stream",
     "text": [
      "Synthetic dataset with two columns created and saved to data/raw/DIS stock price.csv\n"
     ]
    },
    {
     "name": "stderr",
     "output_type": "stream",
     "text": [
      "\n"
     ]
    },
    {
     "data": {
      "text/html": [
       "<div>\n",
       "<style scoped>\n",
       "    .dataframe tbody tr th:only-of-type {\n",
       "        vertical-align: middle;\n",
       "    }\n",
       "\n",
       "    .dataframe tbody tr th {\n",
       "        vertical-align: top;\n",
       "    }\n",
       "\n",
       "    .dataframe thead th {\n",
       "        text-align: right;\n",
       "    }\n",
       "</style>\n",
       "<table border=\"1\" class=\"dataframe\">\n",
       "  <thead>\n",
       "    <tr style=\"text-align: right;\">\n",
       "      <th>Price</th>\n",
       "      <th>Date</th>\n",
       "      <th>Close</th>\n",
       "      <th>High</th>\n",
       "      <th>Low</th>\n",
       "      <th>Open</th>\n",
       "      <th>Volume</th>\n",
       "    </tr>\n",
       "  </thead>\n",
       "  <tbody>\n",
       "    <tr>\n",
       "      <th>0</th>\n",
       "      <td>2020-01-02</td>\n",
       "      <td>145.769897</td>\n",
       "      <td>145.769897</td>\n",
       "      <td>142.720739</td>\n",
       "      <td>142.907610</td>\n",
       "      <td>9502100</td>\n",
       "    </tr>\n",
       "    <tr>\n",
       "      <th>1</th>\n",
       "      <td>2020-01-03</td>\n",
       "      <td>144.097794</td>\n",
       "      <td>145.474831</td>\n",
       "      <td>143.655175</td>\n",
       "      <td>143.999427</td>\n",
       "      <td>7320200</td>\n",
       "    </tr>\n",
       "    <tr>\n",
       "      <th>2</th>\n",
       "      <td>2020-01-06</td>\n",
       "      <td>143.261734</td>\n",
       "      <td>143.635508</td>\n",
       "      <td>141.943710</td>\n",
       "      <td>143.153537</td>\n",
       "      <td>8262500</td>\n",
       "    </tr>\n",
       "    <tr>\n",
       "      <th>3</th>\n",
       "      <td>2020-01-07</td>\n",
       "      <td>143.310898</td>\n",
       "      <td>144.461711</td>\n",
       "      <td>143.035490</td>\n",
       "      <td>143.596151</td>\n",
       "      <td>6906500</td>\n",
       "    </tr>\n",
       "    <tr>\n",
       "      <th>4</th>\n",
       "      <td>2020-01-08</td>\n",
       "      <td>143.015823</td>\n",
       "      <td>143.733864</td>\n",
       "      <td>142.445347</td>\n",
       "      <td>143.104359</td>\n",
       "      <td>6984200</td>\n",
       "    </tr>\n",
       "  </tbody>\n",
       "</table>\n",
       "</div>"
      ],
      "text/plain": [
       "Price       Date       Close        High         Low        Open   Volume\n",
       "0     2020-01-02  145.769897  145.769897  142.720739  142.907610  9502100\n",
       "1     2020-01-03  144.097794  145.474831  143.655175  143.999427  7320200\n",
       "2     2020-01-06  143.261734  143.635508  141.943710  143.153537  8262500\n",
       "3     2020-01-07  143.310898  144.461711  143.035490  143.596151  6906500\n",
       "4     2020-01-08  143.015823  143.733864  142.445347  143.104359  6984200"
      ]
     },
     "execution_count": 22,
     "metadata": {},
     "output_type": "execute_result"
    }
   ],
   "source": [
    "import pandas as pd\n",
    "import numpy as np\n",
    "import os\n",
    "import yfinance as yf\n",
    "\n",
    "# Define folder paths relative to this notebook\n",
    "raw_dir = 'data/raw'\n",
    "processed_dir = 'data/processed'\n",
    "\n",
    "# Create folders if they don't exist\n",
    "os.makedirs(raw_dir, exist_ok=True)\n",
    "os.makedirs(processed_dir, exist_ok=True)\n",
    "\n",
    "# Download DIS stock data from 2020-01-01\n",
    "ticker = \"DIS\"\n",
    "df = yf.download(ticker, start=\"2020-01-01\")\n",
    "df = df.reset_index()\n",
    "\n",
    "# drop the ticker row\n",
    "if isinstance(df.columns, pd.MultiIndex):\n",
    "    df.columns = df.columns.droplevel(1)  \n",
    "\n",
    "# Save to CSV in raw data folder\n",
    "csv_path = os.path.join(raw_dir, 'DIS stock price.csv')\n",
    "if not os.path.exists(csv_path):\n",
    "    df.to_csv(csv_path, index=False)\n",
    "    print(f'Synthetic dataset with two columns created and saved to {csv_path}')\n",
    "else:\n",
    "    print(f'File already exists at {csv_path}. Skipping CSV creation to avoid overwrite.')\n",
    "\n",
    "df.head()\n"
   ]
  },
  {
   "cell_type": "markdown",
   "id": "tIfGcjA5ddAE",
   "metadata": {
    "id": "tIfGcjA5ddAE"
   },
   "source": [
    "## Implement 2 engineered features"
   ]
  },
  {
   "cell_type": "code",
   "execution_count": 28,
   "id": "SJCYM9w3ddAF",
   "metadata": {
    "id": "SJCYM9w3ddAF"
   },
   "outputs": [
    {
     "name": "stdout",
     "output_type": "stream",
     "text": [
      "Saved to data/processed/DIS_with_log_return.csv\n"
     ]
    },
    {
     "data": {
      "text/html": [
       "<div>\n",
       "<style scoped>\n",
       "    .dataframe tbody tr th:only-of-type {\n",
       "        vertical-align: middle;\n",
       "    }\n",
       "\n",
       "    .dataframe tbody tr th {\n",
       "        vertical-align: top;\n",
       "    }\n",
       "\n",
       "    .dataframe thead th {\n",
       "        text-align: right;\n",
       "    }\n",
       "</style>\n",
       "<table border=\"1\" class=\"dataframe\">\n",
       "  <thead>\n",
       "    <tr style=\"text-align: right;\">\n",
       "      <th>Price</th>\n",
       "      <th>Date</th>\n",
       "      <th>Close</th>\n",
       "      <th>log_return</th>\n",
       "    </tr>\n",
       "  </thead>\n",
       "  <tbody>\n",
       "    <tr>\n",
       "      <th>0</th>\n",
       "      <td>2020-01-02</td>\n",
       "      <td>145.769897</td>\n",
       "      <td>NaN</td>\n",
       "    </tr>\n",
       "    <tr>\n",
       "      <th>1</th>\n",
       "      <td>2020-01-03</td>\n",
       "      <td>144.097794</td>\n",
       "      <td>-0.011537</td>\n",
       "    </tr>\n",
       "    <tr>\n",
       "      <th>2</th>\n",
       "      <td>2020-01-06</td>\n",
       "      <td>143.261734</td>\n",
       "      <td>-0.005819</td>\n",
       "    </tr>\n",
       "    <tr>\n",
       "      <th>3</th>\n",
       "      <td>2020-01-07</td>\n",
       "      <td>143.310898</td>\n",
       "      <td>0.000343</td>\n",
       "    </tr>\n",
       "    <tr>\n",
       "      <th>4</th>\n",
       "      <td>2020-01-08</td>\n",
       "      <td>143.015823</td>\n",
       "      <td>-0.002061</td>\n",
       "    </tr>\n",
       "  </tbody>\n",
       "</table>\n",
       "</div>"
      ],
      "text/plain": [
       "Price       Date       Close  log_return\n",
       "0     2020-01-02  145.769897         NaN\n",
       "1     2020-01-03  144.097794   -0.011537\n",
       "2     2020-01-06  143.261734   -0.005819\n",
       "3     2020-01-07  143.310898    0.000343\n",
       "4     2020-01-08  143.015823   -0.002061"
      ]
     },
     "execution_count": 28,
     "metadata": {},
     "output_type": "execute_result"
    }
   ],
   "source": [
    "# Calculate daily log returns using Adj Close\n",
    "df['log_return'] = np.log(df['Close'] / df['Close'].shift(1))\n",
    "\n",
    "os.makedirs(\"data/processed\", exist_ok=True)\n",
    "\n",
    "# Save to CSV\n",
    "output_path = \"data/processed/DIS_with_log_return.csv\"\n",
    "df.to_csv(output_path, index=False)\n",
    "\n",
    "print(f\"Saved to {output_path}\")\n",
    "df[['Date', 'Close', 'log_return']].head()\n"
   ]
  },
  {
   "cell_type": "markdown",
   "id": "Q_u74FhVddAF",
   "metadata": {
    "id": "Q_u74FhVddAF"
   },
   "source": [
    "### Rationale for Log returns\n",
    "Log returns give an analytic view of a stock compared to the dollar amount. It has time-additivity, meaning we can sum the log returns of different periods to find the total return for a longer period, simplifying complex calculations for multi-period analysis. "
   ]
  },
  {
   "cell_type": "code",
   "execution_count": 34,
   "id": "CQxlu1jdddAF",
   "metadata": {
    "id": "CQxlu1jdddAF"
   },
   "outputs": [
    {
     "name": "stdout",
     "output_type": "stream",
     "text": [
      "Saved to data/processed/DIS_21d_volatility.csv\n"
     ]
    },
    {
     "data": {
      "text/html": [
       "<div>\n",
       "<style scoped>\n",
       "    .dataframe tbody tr th:only-of-type {\n",
       "        vertical-align: middle;\n",
       "    }\n",
       "\n",
       "    .dataframe tbody tr th {\n",
       "        vertical-align: top;\n",
       "    }\n",
       "\n",
       "    .dataframe thead th {\n",
       "        text-align: right;\n",
       "    }\n",
       "</style>\n",
       "<table border=\"1\" class=\"dataframe\">\n",
       "  <thead>\n",
       "    <tr style=\"text-align: right;\">\n",
       "      <th>Price</th>\n",
       "      <th>Date</th>\n",
       "      <th>log_return</th>\n",
       "      <th>volatility</th>\n",
       "    </tr>\n",
       "  </thead>\n",
       "  <tbody>\n",
       "    <tr>\n",
       "      <th>0</th>\n",
       "      <td>2020-01-02</td>\n",
       "      <td>NaN</td>\n",
       "      <td>NaN</td>\n",
       "    </tr>\n",
       "    <tr>\n",
       "      <th>1</th>\n",
       "      <td>2020-01-03</td>\n",
       "      <td>-0.011537</td>\n",
       "      <td>NaN</td>\n",
       "    </tr>\n",
       "    <tr>\n",
       "      <th>2</th>\n",
       "      <td>2020-01-06</td>\n",
       "      <td>-0.005819</td>\n",
       "      <td>NaN</td>\n",
       "    </tr>\n",
       "    <tr>\n",
       "      <th>3</th>\n",
       "      <td>2020-01-07</td>\n",
       "      <td>0.000343</td>\n",
       "      <td>NaN</td>\n",
       "    </tr>\n",
       "    <tr>\n",
       "      <th>4</th>\n",
       "      <td>2020-01-08</td>\n",
       "      <td>-0.002061</td>\n",
       "      <td>NaN</td>\n",
       "    </tr>\n",
       "  </tbody>\n",
       "</table>\n",
       "</div>"
      ],
      "text/plain": [
       "Price       Date  log_return  volatility\n",
       "0     2020-01-02         NaN         NaN\n",
       "1     2020-01-03   -0.011537         NaN\n",
       "2     2020-01-06   -0.005819         NaN\n",
       "3     2020-01-07    0.000343         NaN\n",
       "4     2020-01-08   -0.002061         NaN"
      ]
     },
     "execution_count": 34,
     "metadata": {},
     "output_type": "execute_result"
    }
   ],
   "source": [
    "# Calculate 21-day rolling (monthly) volatility, annualized\n",
    "df['volatility_21d_ann'] = (\n",
    "    df['log_return']\n",
    "    .rolling(window=21)\n",
    "    .std()\n",
    "    * np.sqrt(252)\n",
    ")\n",
    "\n",
    "# Save to CSV\n",
    "output_path = \"data/processed/DIS_21d_volatility.csv\"\n",
    "df.to_csv(output_path, index=False)\n",
    "\n",
    "print(f\"Saved to {output_path}\")\n",
    "\n",
    "df[['Date', 'log_return', 'volatility']].head()"
   ]
  },
  {
   "cell_type": "markdown",
   "id": "xzISH5S7ddAF",
   "metadata": {
    "id": "xzISH5S7ddAF"
   },
   "source": [
    "### Rationale for Volatility\n",
    "Volatility (standard deviation of returns) is the most common proxy for risk in finance. It can help investors compare stocks not just by return but by risk-adjusted performance."
   ]
  },
  {
   "cell_type": "code",
   "execution_count": null,
   "id": "90bf321e-576b-4425-b432-8070ba4d4681",
   "metadata": {},
   "outputs": [],
   "source": []
  }
 ],
 "metadata": {
  "colab": {
   "provenance": []
  },
  "kernelspec": {
   "display_name": "Python 3 (ipykernel)",
   "language": "python",
   "name": "python3"
  },
  "language_info": {
   "codemirror_mode": {
    "name": "ipython",
    "version": 3
   },
   "file_extension": ".py",
   "mimetype": "text/x-python",
   "name": "python",
   "nbconvert_exporter": "python",
   "pygments_lexer": "ipython3",
   "version": "3.12.4"
  }
 },
 "nbformat": 4,
 "nbformat_minor": 5
}
